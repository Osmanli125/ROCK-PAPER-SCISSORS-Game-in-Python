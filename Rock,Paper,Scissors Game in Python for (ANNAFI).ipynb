{
 "cells": [
  {
   "cell_type": "code",
   "execution_count": 1,
   "id": "457426f9",
   "metadata": {},
   "outputs": [
    {
     "name": "stdout",
     "output_type": "stream",
     "text": [
      "Please,type your name!Murad\n",
      "Please,type your name!Yavuz\n",
      "Murad,Select only one from rock,paper and scissors?rock\n",
      "Yavuz,Select only one from rock,paper and scissors?paper\n",
      "Paper wins\n"
     ]
    }
   ],
   "source": [
    "import sys\n",
    "user1 = input('Please,type your name!')\n",
    "user2 = input('Please,type your name!')\n",
    "\n",
    "user1_ans = input('%s,Select only one from rock,paper and scissors?'% user1)\n",
    "user2_ans = input('%s,Select only one from rock,paper and scissors?'% user2)\n",
    "\n",
    "\n",
    "def compare(u1,u2):\n",
    "    if u1 == u2:\n",
    "        return ('Its a TIE!')\n",
    "    elif u1 == 'rock':\n",
    "        if u2 == 'scissors':\n",
    "            return ('Rock wins!')\n",
    "        else:\n",
    "            return ('Paper wins')\n",
    "    elif u1 == 'scissors':\n",
    "        if u2 == 'paper':\n",
    "            return ('Scissors wins!')\n",
    "        else:\n",
    "            return ('Rock wins!')\n",
    "    elif u1 == 'paper':\n",
    "        if u2 == 'rock':\n",
    "            return ('Paper wins!')\n",
    "        else:\n",
    "            return ('Scissors wins!')\n",
    "    \n",
    "    else:\n",
    "        return('Invalid input,Please type the correct word')\n",
    "        sys.exit()\n",
    "print (compare(user1_ans,user2_ans))"
   ]
  },
  {
   "cell_type": "code",
   "execution_count": 2,
   "id": "449a914f",
   "metadata": {},
   "outputs": [
    {
     "name": "stdout",
     "output_type": "stream",
     "text": [
      "Please,type your name!ali\n",
      "Please,type your name!khan\n",
      "ali,Select only one from rock,paper and scissors?yuru\n",
      "khan,Select only one from rock,paper and scissors?git\n",
      "Invalid input,Please type the correct word\n"
     ]
    }
   ],
   "source": [
    "import sys\n",
    "user1 = input('Please,type your name!')\n",
    "user2 = input('Please,type your name!')\n",
    "\n",
    "user1_ans = input('%s,Select only one from rock,paper and scissors?'% user1)\n",
    "user2_ans = input('%s,Select only one from rock,paper and scissors?'% user2)\n",
    "\n",
    "\n",
    "def compare(u1,u2):\n",
    "    if u1 == u2:\n",
    "        return ('Its a TIE!')\n",
    "    elif u1 == 'rock':\n",
    "        if u2 == 'scissors':\n",
    "            return ('Rock wins!')\n",
    "        else:\n",
    "            return ('Paper wins')\n",
    "    elif u1 == 'scissors':\n",
    "        if u2 == 'paper':\n",
    "            return ('Scissors wins!')\n",
    "        else:\n",
    "            return ('Rock wins!')\n",
    "    elif u1 == 'paper':\n",
    "        if u2 == 'rock':\n",
    "            return ('Paper wins!')\n",
    "        else:\n",
    "            return ('Scissors wins!')\n",
    "    \n",
    "    else:\n",
    "        return('Invalid input,Please type the correct word')\n",
    "        sys.exit()\n",
    "print (compare(user1_ans,user2_ans))"
   ]
  },
  {
   "cell_type": "code",
   "execution_count": null,
   "id": "ef605d74",
   "metadata": {},
   "outputs": [],
   "source": []
  }
 ],
 "metadata": {
  "kernelspec": {
   "display_name": "Python 3 (ipykernel)",
   "language": "python",
   "name": "python3"
  },
  "language_info": {
   "codemirror_mode": {
    "name": "ipython",
    "version": 3
   },
   "file_extension": ".py",
   "mimetype": "text/x-python",
   "name": "python",
   "nbconvert_exporter": "python",
   "pygments_lexer": "ipython3",
   "version": "3.8.8"
  }
 },
 "nbformat": 4,
 "nbformat_minor": 5
}
